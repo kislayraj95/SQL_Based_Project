{
 "cells": [
  {
   "cell_type": "code",
   "execution_count": 93,
   "id": "3ed087b8",
   "metadata": {},
   "outputs": [],
   "source": [
    "# Loading the Database\n",
    "import sqlite3\n",
    "\n",
    "# Create a SQL connection to our SQLite database\n",
    "con = sqlite3.connect(\"sfscores.sqlite\")\n",
    "\n",
    "cur = con.cursor()\n",
    "\n",
    "# Be sure to close the connection\n",
    "con.close()"
   ]
  },
  {
   "cell_type": "markdown",
   "id": "48c83b54-63d2-4cdd-a083-7c79e454325d",
   "metadata": {
    "id": "48c83b54-63d2-4cdd-a083-7c79e454325d"
   },
   "source": [
    "# Data Engineering 1\n",
    "\n",
    "In this assignment, you are working with a relational dataset that captures information\n",
    "about food health investigations carried out in San Francisco and their outcomes.\n",
    "\n",
    "Imagine you want to start a new restaurant in San Francisco.\n",
    "\n",
    "You want to stay away from big restaurant owners who own multiple restaurants.\n",
    "\n",
    "You also want to pick an area that is trending (hence, a lot of restaurants).\n",
    "\n",
    "In this exercise, you will write SQL queries to find out the best area and answer business intelligence questions.\n",
    "\n",
    "The database is stored under `data/sfscores.sqlite` for you to test your queries with, but for this assignment your answers should only be the SQL queries you construct.\n",
    "\n",
    "The database consists of _3 tables_. The schemas are shown below.\n",
    "\n",
    "- `businesses`: information relating to restaurant businesses\n",
    "- `inspections`: information about individual inspection events\n",
    "- `violations`: information about violation events\n",
    "\n",
    "The queries you need to implement will increase in difficulty. By the end of this assignment, the focus will be on answering multipart business questions using multistep queries or multiple tables.\n",
    "\n",
    "## businesses\n",
    "\n",
    "```\n",
    "CREATE TABLE businesses (\n",
    "    business_id INTEGER NOT NULL,\n",
    "    name VARCHAR(64),\n",
    "    address VARCHAR(50),\n",
    "    city VARCHAR(23),\n",
    "    postal_code VARCHAR(9),\n",
    "    latitude FLOAT,\n",
    "    longitude FLOAT,\n",
    "    phone_number BIGINT,\n",
    "    \"TaxCode\" VARCHAR(4),\n",
    "    business_certificate INTEGER,\n",
    "    application_date DATE,\n",
    "    owner_name VARCHAR(99),\n",
    "    owner_address VARCHAR(74),\n",
    "    owner_city VARCHAR(22),\n",
    "    owner_state VARCHAR(14),\n",
    "    owner_zip VARCHAR(15)\n",
    ")\n",
    "```\n",
    "\n",
    "## violations\n",
    "\n",
    "```\n",
    "CREATE TABLE violations (\n",
    "    business_id TEXT NOT NULL,\n",
    "    date INTEGER NOT NULL,\n",
    "    ViolationTypeID TEXT NOT NULL,\n",
    "    risk_category TEXT NOT NULL,\n",
    "    description TEXT NOT NULL\n",
    ")\n",
    "```\n",
    "\n",
    "## inspections\n",
    "\n",
    "```\n",
    "CREATE TABLE inspections (\n",
    "    business_id TEXT NOT NULL,\n",
    "    Score INTEGER,\n",
    "    date INTEGER NOT NULL,\n",
    "    type VARCHAR (33) NOT NULL\n",
    ")\n",
    "\n",
    "```"
   ]
  },
  {
   "cell_type": "markdown",
   "id": "c82d208f-fe80-4f18-b937-cc8b500729cb",
   "metadata": {
    "id": "c82d208f-fe80-4f18-b937-cc8b500729cb"
   },
   "source": [
    "# Part 1 - Essentials"
   ]
  },
  {
   "cell_type": "markdown",
   "id": "a7d6fdfc-5596-40a5-a59e-b31a89dd8988",
   "metadata": {
    "id": "a7d6fdfc-5596-40a5-a59e-b31a89dd8988"
   },
   "source": [
    "## Q1.1 [5 marks]\n",
    "\n",
    "Write a string which contains a specific SQL query.\n",
    "\n",
    "The query should find and return the total number of `business_id` in the `businesses` table.\n",
    "\n"
   ]
  },
  {
   "cell_type": "code",
   "execution_count": 94,
   "id": "e62ea6ab",
   "metadata": {},
   "outputs": [
    {
     "name": "stdout",
     "output_type": "stream",
     "text": [
      "[(7613,)]\n"
     ]
    }
   ],
   "source": [
    "import sqlite3\n",
    "con = sqlite3.connect(\"sfscores.sqlite\")\n",
    "\n",
    "cur = con.cursor()\n",
    "cur.execute(\"SELECT COUNT(business_id) FROM businesses\")\n",
    "print(cur.fetchall())\n",
    "con.close()"
   ]
  },
  {
   "cell_type": "code",
   "execution_count": null,
   "id": "91388622-c71b-4845-bae8-8a0e7e43af3f",
   "metadata": {
    "id": "91388622-c71b-4845-bae8-8a0e7e43af3f"
   },
   "outputs": [],
   "source": [
    "# Your query string here\n",
    "\"SELECT COUNT(*) FROM BUSINESSES\""
   ]
  },
  {
   "cell_type": "markdown",
   "id": "c545a033-f6e1-4248-8798-ad98c4ea5ef4",
   "metadata": {
    "id": "c545a033-f6e1-4248-8798-ad98c4ea5ef4"
   },
   "source": [
    "## Q1.2 [5 marks]\n",
    "\n",
    "Write a string which contains a specific SQL query.\n",
    "\n",
    "The query should find out how many unique owner names are registered with the San Francisco Food Health Investigation organisation.\n",
    "\n",
    "The column of unique owner names should be renamed as \"unique owner name count\"."
   ]
  },
  {
   "cell_type": "code",
   "execution_count": 95,
   "id": "3a517a4e",
   "metadata": {},
   "outputs": [
    {
     "name": "stdout",
     "output_type": "stream",
     "text": [
      "[(1719,)]\n"
     ]
    }
   ],
   "source": [
    "import sqlite3\n",
    "con = sqlite3.connect(\"sfscores.sqlite\")\n",
    "\n",
    "cur = con.cursor()\n",
    "cur.execute(\"SELECT COUNT(DISTINCT OWNER_NAME) AS unique_owner_name_count FROM BUSINESSES WHERE CITY='San Francisco'\")\n",
    "print(cur.fetchall())\n",
    "con.close()"
   ]
  },
  {
   "cell_type": "code",
   "execution_count": null,
   "id": "779726bc-799f-4861-9212-a2577f8447a4",
   "metadata": {
    "id": "779726bc-799f-4861-9212-a2577f8447a4"
   },
   "outputs": [],
   "source": [
    "# Your query string here\n",
    "\"SELECT COUNT(DISTINCT OWNER_NAME) AS unique_owner_name_count FROM BUSINESSES WHERE CITY='San Francisco'\""
   ]
  },
  {
   "cell_type": "markdown",
   "id": "89695dcf-96a8-44f4-888c-b3c769de65a6",
   "metadata": {
    "id": "89695dcf-96a8-44f4-888c-b3c769de65a6"
   },
   "source": [
    "## Q1.3 [5 marks]\n",
    "\n",
    "Write a string which contains a specific SQL query.\n",
    "\n",
    "The query should find out the earliest and latest dates on which a health investigation is recorded in the database.\n",
    "\n",
    "Give the columns suitable names."
   ]
  },
  {
   "cell_type": "code",
   "execution_count": 96,
   "id": "2d2a9457",
   "metadata": {},
   "outputs": [
    {
     "name": "stdout",
     "output_type": "stream",
     "text": [
      "[(20131007, 20161215)]\n"
     ]
    }
   ],
   "source": [
    "import sqlite3\n",
    "con = sqlite3.connect(\"sfscores.sqlite\")\n",
    "\n",
    "cur = con.cursor()\n",
    "cur.execute(\"SELECT MIN(DATE),MAX(DATE) FROM INSPECTIONS\")\n",
    "print(cur.fetchall())\n",
    "con.close()"
   ]
  },
  {
   "cell_type": "code",
   "execution_count": null,
   "id": "3fd71b8f-ccf2-432f-ac6b-291e5ab5eec9",
   "metadata": {
    "id": "3fd71b8f-ccf2-432f-ac6b-291e5ab5eec9"
   },
   "outputs": [],
   "source": [
    "# Your query string here\n",
    "\"SELECT MIN(DATE),MAX(DATE) FROM INSPECTIONS\""
   ]
  },
  {
   "cell_type": "markdown",
   "id": "20a5fa98-2d51-4356-ba03-676b1aa0297d",
   "metadata": {
    "id": "20a5fa98-2d51-4356-ba03-676b1aa0297d"
   },
   "source": [
    "# Part 2 - Groupby"
   ]
  },
  {
   "cell_type": "markdown",
   "id": "5541e81f-4d61-4cd1-b9af-106ccfdd3544",
   "metadata": {
    "id": "5541e81f-4d61-4cd1-b9af-106ccfdd3544"
   },
   "source": [
    "## Q2.1 [10 marks]\n",
    "\n",
    "Write a string which contains a specific SQL query.\n",
    "\n",
    "The query should report the distribution of the risk exposure of all violations reported in the database.\n",
    "\n",
    "The first column of the result should be \"risk category\".\n",
    "\n",
    "The second column should be the count of that risk category."
   ]
  },
  {
   "cell_type": "code",
   "execution_count": 97,
   "id": "e594aec2",
   "metadata": {},
   "outputs": [
    {
     "name": "stdout",
     "output_type": "stream",
     "text": [
      "[('High Risk', 5608), ('Low Risk', 20996), ('Moderate Risk', 14131)]\n"
     ]
    }
   ],
   "source": [
    "import sqlite3\n",
    "con = sqlite3.connect(\"sfscores.sqlite\")\n",
    "\n",
    "cur = con.cursor()\n",
    "cur.execute(\"SELECT RISK_CATEGORY, COUNT(RISK_CATEGORY) FROM VIOLATIONS GROUP BY RISK_CATEGORY\")\n",
    "print(cur.fetchall())\n",
    "con.close()"
   ]
  },
  {
   "cell_type": "code",
   "execution_count": null,
   "id": "3423c0f0-bceb-4d7a-a3d3-8696ccf13c68",
   "metadata": {
    "id": "3423c0f0-bceb-4d7a-a3d3-8696ccf13c68"
   },
   "outputs": [],
   "source": [
    "# Your query string here\n",
    "\"SELECT RISK_CATEGORY, COUNT(RISK_CATEGORY) FROM VIOLATIONS GROUP BY RISK_CATEGORY\""
   ]
  },
  {
   "cell_type": "markdown",
   "id": "93eef975-af77-4a1d-9bb7-62bcb4364a29",
   "metadata": {
    "id": "93eef975-af77-4a1d-9bb7-62bcb4364a29"
   },
   "source": [
    "## Q2.2 [10 marks]\n",
    "\n",
    "Write a string which contains a specific SQL query.\n",
    "\n",
    "The query should report the distribution of the risk exposure of all the violations reported in the database that are **related to temperature**. That is, they contain the word \"temperature\".\n",
    "\n",
    "Sort the results in order of highest to lowest frequency."
   ]
  },
  {
   "cell_type": "code",
   "execution_count": 98,
   "id": "807804cf",
   "metadata": {},
   "outputs": [
    {
     "name": "stdout",
     "output_type": "stream",
     "text": [
      "[('103120', 2777), ('103103', 1638), ('103106', 11)]\n"
     ]
    }
   ],
   "source": [
    "import sqlite3\n",
    "con = sqlite3.connect(\"sfscores.sqlite\")\n",
    "\n",
    "cur = con.cursor()\n",
    "\n",
    "cur.execute(\"SELECT violationtypeid,COUNT(violationtypeid) FROM VIOLATIONS where description like '%temperature%' group by violationtypeid order by count(violationtypeid) desc\")\n",
    "print(cur.fetchall())\n",
    "con.close()"
   ]
  },
  {
   "cell_type": "code",
   "execution_count": null,
   "id": "40fd754f-71e3-431a-919a-8bfdc1f0846d",
   "metadata": {
    "id": "40fd754f-71e3-431a-919a-8bfdc1f0846d"
   },
   "outputs": [],
   "source": [
    "# Your query string here\n",
    "\"SELECT violationtypeid,COUNT(violationtypeid) FROM VIOLATIONS where description like '%temperature%' group by violationtypeid order by count(violationtypeid) desc\""
   ]
  },
  {
   "cell_type": "markdown",
   "id": "8677f51f-08fd-4cce-9ba0-c7401f845b5c",
   "metadata": {
    "id": "8677f51f-08fd-4cce-9ba0-c7401f845b5c"
   },
   "source": [
    "## Q2.3 [10 marks]\n",
    "\n",
    "Write a string which contains a specific SQL query.\n",
    "\n",
    "The query should find the restaurant owners (by `owner_name`) who own one or more restaurants in the city, and the number of restaurants they own.\n",
    "\n",
    "Report only the top 10 owners.\n",
    "\n",
    "Order this top 10 in descending order of the number of restaurants."
   ]
  },
  {
   "cell_type": "code",
   "execution_count": 99,
   "id": "887927f3",
   "metadata": {},
   "outputs": [
    {
     "name": "stdout",
     "output_type": "stream",
     "text": [
      "[('VOLUME SERVICES AMERICA', 94), ('Department of Children, Youth and their Families', 63), ('SFUSD', 44), ('Volume Services, Inc.', 41), (\"Children's Empowerment Inc.\", 36), ('SAN FRANCISCO UNIFIED SCHOOL', 34), ('WALGREEN CO.', 17), ('Walgreen Co', 15), ('SMG Food and Beverage LLC', 14), ('STARBUCKS COFFEE CO.', 13)]\n"
     ]
    }
   ],
   "source": [
    "import sqlite3\n",
    "con = sqlite3.connect(\"sfscores.sqlite\")\n",
    "\n",
    "cur = con.cursor()\n",
    "cur.execute(\"SELECT OWNER_NAME,COUNT(OWNER_NAME) FROM BUSINESSES GROUP BY OWNER_NAME ORDER BY COUNT(OWNER_NAME) DESC LIMIT 10;\")\n",
    "print(cur.fetchall())\n",
    "con.close()"
   ]
  },
  {
   "cell_type": "code",
   "execution_count": null,
   "id": "6b948ef8-0850-4c86-914f-eb4e0bf6a5b0",
   "metadata": {
    "id": "6b948ef8-0850-4c86-914f-eb4e0bf6a5b0"
   },
   "outputs": [],
   "source": [
    "# Your query string here\n",
    "\"SELECT OWNER_NAME,COUNT(OWNER_NAME) FROM BUSINESSES GROUP BY OWNER_NAME ORDER BY COUNT(OWNER_NAME) DESC LIMIT 10;\""
   ]
  },
  {
   "cell_type": "markdown",
   "id": "8fed6224-9047-4a24-997e-7d423a726f93",
   "metadata": {
    "id": "8fed6224-9047-4a24-997e-7d423a726f93"
   },
   "source": [
    "# Part 3 - Subqueries and joins"
   ]
  },
  {
   "cell_type": "markdown",
   "id": "3547f145-d949-40ef-b194-f9be47a09835",
   "metadata": {
    "id": "3547f145-d949-40ef-b194-f9be47a09835"
   },
   "source": [
    "## Q3.1 [15 marks]\n",
    "\n",
    "Write a string which contains a specific SQL query.\n",
    "\n",
    "\n",
    "From the businesses table, select the top 5 most popular `postal_code`.\n",
    "\n",
    "Filter these to only count the restaurants owned by people/entities that\n",
    "own 10 or more restaurants.\n",
    "\n",
    "The result should:\n",
    "* return a row `(postal_code, frequency)` for each 5 selections\n",
    "* sort by descending order to get the most relevant postal codes\n"
   ]
  },
  {
   "cell_type": "code",
   "execution_count": 100,
   "id": "3877e178-b3f9-4c81-a85f-58854d1972be",
   "metadata": {
    "id": "3877e178-b3f9-4c81-a85f-58854d1972be"
   },
   "outputs": [
    {
     "name": "stdout",
     "output_type": "stream",
     "text": [
      "[('94110', 704), ('94103', 656), ('94102', 556), ('94133', 538), ('94109', 491)]\n"
     ]
    }
   ],
   "source": [
    "import sqlite3\n",
    "con = sqlite3.connect(\"sfscores.sqlite\")\n",
    "\n",
    "cur = con.cursor()\n",
    "\n",
    "cur.execute(\"SELECT POSTAL_CODE,COUNT(POSTAL_CODE) FROM BUSINESSES GROUP BY POSTAL_CODE ORDER BY COUNT(POSTAL_CODE) DESC LIMIT 5\")\n",
    "print(cur.fetchall())\n",
    "con.close()"
   ]
  },
  {
   "cell_type": "markdown",
   "id": "aa18d9a3-e387-4e60-8ec0-901371b7f61e",
   "metadata": {
    "id": "aa18d9a3-e387-4e60-8ec0-901371b7f61e"
   },
   "source": [
    "## Q3.2 [15 marks]\n",
    "\n",
    "Write a string which contains a specific SQL query.\n",
    "\n",
    "Let's get an idea about the inspection score the competition has.\n",
    "\n",
    "Based on multiple inspections, find out:\n",
    "- the minimum Score (as `min_score`)\n",
    "- the average Score (as `avg_score`)\n",
    "- the maximum Score (as `max_score`)\n",
    "\n",
    "for all restaurant in postal code `94158`.\n",
    "\n",
    "The average score should be rounded to one decimal."
   ]
  },
  {
   "cell_type": "code",
   "execution_count": 101,
   "id": "70c2588d",
   "metadata": {},
   "outputs": [
    {
     "name": "stdout",
     "output_type": "stream",
     "text": [
      "[(84, 100, 96.63)]\n"
     ]
    }
   ],
   "source": [
    "import sqlite3\n",
    "con = sqlite3.connect(\"sfscores.sqlite\")\n",
    "\n",
    "cur = con.cursor()\n",
    "\n",
    "cur.execute(\"SELECT MIN(SCORE),MAX(SCORE),ROUND(AVG(SCORE),2) FROM(SELECT BUSINESSES.BUSINESS_ID, BUSINESSES.POSTAL_CODE, INSPECTIONS.SCORE FROM BUSINESSES JOIN INSPECTIONS ON BUSINESSES.BUSINESS_ID=INSPECTIONS.BUSINESS_ID) WHERE POSTAL_CODE='94158'\")\n",
    "print(cur.fetchall())\n",
    "con.close()"
   ]
  },
  {
   "cell_type": "code",
   "execution_count": null,
   "id": "0a7fd9c6-e78f-4fbd-85f8-e1eb161e2758",
   "metadata": {
    "id": "0a7fd9c6-e78f-4fbd-85f8-e1eb161e2758"
   },
   "outputs": [],
   "source": [
    "# Your query string here\n",
    "\"SELECT MIN(SCORE),MAX(SCORE),ROUND(AVG(SCORE),2) FROM(SELECT BUSINESSES.BUSINESS_ID, BUSINESSES.POSTAL_CODE, INSPECTIONS.SCORE FROM BUSINESSES JOIN INSPECTIONS ON BUSINESSES.BUSINESS_ID=INSPECTIONS.BUSINESS_ID) WHERE POSTAL_CODE=94158\""
   ]
  },
  {
   "cell_type": "markdown",
   "id": "f45e5413-372e-4c3b-b405-9d38f4c28b08",
   "metadata": {
    "id": "f45e5413-372e-4c3b-b405-9d38f4c28b08"
   },
   "source": [
    "## Q3.3 [15 marks]\n",
    "\n",
    "Write a string which contains a specific SQL query.\n",
    "\n",
    "Look at how many times restaurants with postal code `94158` have committed health violations and group them based on their risk category.\n",
    "\n",
    "The output should be `(risk_category, count as frequency)` and sorted in descending order by frequency.\n"
   ]
  },
  {
   "cell_type": "code",
   "execution_count": 102,
   "id": "321af5e4",
   "metadata": {},
   "outputs": [
    {
     "name": "stdout",
     "output_type": "stream",
     "text": [
      "[('High Risk', 19)]\n"
     ]
    }
   ],
   "source": [
    "import sqlite3\n",
    "con = sqlite3.connect(\"sfscores.sqlite\")\n",
    "\n",
    "cur = con.cursor()\n",
    "\n",
    "cur.execute(\"SELECT RISK_CATEGORY,COUNT(RISK_CATEGORY) FROM (SELECT BUSINESSES.BUSINESS_ID, BUSINESSES.POSTAL_CODE, VIOLATIONS.RISK_CATEGORY FROM BUSINESSES JOIN VIOLATIONS ON BUSINESSES.BUSINESS_ID=VIOLATIONS.BUSINESS_ID) WHERE POSTAL_CODE='94158'\")\n",
    "print(cur.fetchall())\n",
    "con.close()"
   ]
  },
  {
   "cell_type": "code",
   "execution_count": null,
   "id": "3869c2a8-cbd5-4bfe-9e5a-e1ceb7972e25",
   "metadata": {
    "id": "3869c2a8-cbd5-4bfe-9e5a-e1ceb7972e25"
   },
   "outputs": [],
   "source": [
    "# Your query string here\n",
    "\"SELECT RISK_CATEGORY,COUNT(RISK_CATEGORY) FROM (SELECT BUSINESSES.BUSINESS_ID, BUSINESSES.POSTAL_CODE, VIOLATIONS.RISK_CATEGORY FROM BUSINESSES JOIN VIOLATIONS ON BUSINESSES.BUSINESS_ID=VIOLATIONS.BUSINESS_ID) WHERE POSTAL_CODE='94158'\""
   ]
  }
 ],
 "metadata": {
  "colab": {
   "name": "Data Engineering 1.ipynb",
   "provenance": []
  },
  "kernelspec": {
   "display_name": "Python 3 (ipykernel)",
   "language": "python",
   "name": "python3"
  },
  "language_info": {
   "codemirror_mode": {
    "name": "ipython",
    "version": 3
   },
   "file_extension": ".py",
   "mimetype": "text/x-python",
   "name": "python",
   "nbconvert_exporter": "python",
   "pygments_lexer": "ipython3",
   "version": "3.10.4"
  }
 },
 "nbformat": 4,
 "nbformat_minor": 5
}
