{
 "cells": [
  {
   "cell_type": "markdown",
   "metadata": {},
   "source": [
    "### Importing Libraries"
   ]
  },
  {
   "cell_type": "code",
   "execution_count": 29,
   "metadata": {},
   "outputs": [],
   "source": [
    "import pandas as pd\n",
    "import numpy as np\n",
    "import matplotlib.pyplot as plt"
   ]
  },
  {
   "cell_type": "markdown",
   "metadata": {},
   "source": [
    "### Load the Dataset"
   ]
  },
  {
   "cell_type": "code",
   "execution_count": 30,
   "metadata": {},
   "outputs": [
    {
     "data": {
      "text/html": [
       "<div>\n",
       "<style scoped>\n",
       "    .dataframe tbody tr th:only-of-type {\n",
       "        vertical-align: middle;\n",
       "    }\n",
       "\n",
       "    .dataframe tbody tr th {\n",
       "        vertical-align: top;\n",
       "    }\n",
       "\n",
       "    .dataframe thead th {\n",
       "        text-align: right;\n",
       "    }\n",
       "</style>\n",
       "<table border=\"1\" class=\"dataframe\">\n",
       "  <thead>\n",
       "    <tr style=\"text-align: right;\">\n",
       "      <th></th>\n",
       "      <th>Date</th>\n",
       "      <th>Price</th>\n",
       "      <th>Open</th>\n",
       "      <th>High</th>\n",
       "      <th>Low</th>\n",
       "      <th>Vol.</th>\n",
       "      <th>Change %</th>\n",
       "    </tr>\n",
       "  </thead>\n",
       "  <tbody>\n",
       "    <tr>\n",
       "      <th>0</th>\n",
       "      <td>Dec 30, 2011</td>\n",
       "      <td>1,257.60</td>\n",
       "      <td>1,262.82</td>\n",
       "      <td>1,264.12</td>\n",
       "      <td>1,257.46</td>\n",
       "      <td>-</td>\n",
       "      <td>-0.43%</td>\n",
       "    </tr>\n",
       "    <tr>\n",
       "      <th>1</th>\n",
       "      <td>Dec 29, 2011</td>\n",
       "      <td>1,263.02</td>\n",
       "      <td>1,249.75</td>\n",
       "      <td>1,263.54</td>\n",
       "      <td>1,249.75</td>\n",
       "      <td>-</td>\n",
       "      <td>1.07%</td>\n",
       "    </tr>\n",
       "    <tr>\n",
       "      <th>2</th>\n",
       "      <td>Dec 28, 2011</td>\n",
       "      <td>1,249.64</td>\n",
       "      <td>1,265.38</td>\n",
       "      <td>1,265.85</td>\n",
       "      <td>1,248.64</td>\n",
       "      <td>-</td>\n",
       "      <td>-1.25%</td>\n",
       "    </tr>\n",
       "    <tr>\n",
       "      <th>3</th>\n",
       "      <td>Dec 27, 2011</td>\n",
       "      <td>1,265.43</td>\n",
       "      <td>1,265.02</td>\n",
       "      <td>1,269.37</td>\n",
       "      <td>1,262.30</td>\n",
       "      <td>-</td>\n",
       "      <td>0.01%</td>\n",
       "    </tr>\n",
       "    <tr>\n",
       "      <th>4</th>\n",
       "      <td>Dec 23, 2011</td>\n",
       "      <td>1,265.33</td>\n",
       "      <td>1,254.00</td>\n",
       "      <td>1,265.42</td>\n",
       "      <td>1,254.00</td>\n",
       "      <td>-</td>\n",
       "      <td>0.90%</td>\n",
       "    </tr>\n",
       "    <tr>\n",
       "      <th>...</th>\n",
       "      <td>...</td>\n",
       "      <td>...</td>\n",
       "      <td>...</td>\n",
       "      <td>...</td>\n",
       "      <td>...</td>\n",
       "      <td>...</td>\n",
       "      <td>...</td>\n",
       "    </tr>\n",
       "    <tr>\n",
       "      <th>2974</th>\n",
       "      <td>Mar 07, 2000</td>\n",
       "      <td>1,355.60</td>\n",
       "      <td>1,391.30</td>\n",
       "      <td>1,399.60</td>\n",
       "      <td>1,349.60</td>\n",
       "      <td>-</td>\n",
       "      <td>-2.57%</td>\n",
       "    </tr>\n",
       "    <tr>\n",
       "      <th>2975</th>\n",
       "      <td>Mar 06, 2000</td>\n",
       "      <td>1,391.30</td>\n",
       "      <td>1,409.20</td>\n",
       "      <td>1,409.80</td>\n",
       "      <td>1,384.80</td>\n",
       "      <td>-</td>\n",
       "      <td>-1.27%</td>\n",
       "    </tr>\n",
       "    <tr>\n",
       "      <th>2976</th>\n",
       "      <td>Mar 03, 2000</td>\n",
       "      <td>1,409.20</td>\n",
       "      <td>1,381.80</td>\n",
       "      <td>1,410.90</td>\n",
       "      <td>1,381.80</td>\n",
       "      <td>-</td>\n",
       "      <td>1.98%</td>\n",
       "    </tr>\n",
       "    <tr>\n",
       "      <th>2977</th>\n",
       "      <td>Mar 02, 2000</td>\n",
       "      <td>1,381.80</td>\n",
       "      <td>1,379.20</td>\n",
       "      <td>1,386.90</td>\n",
       "      <td>1,370.30</td>\n",
       "      <td>-</td>\n",
       "      <td>0.19%</td>\n",
       "    </tr>\n",
       "    <tr>\n",
       "      <th>2978</th>\n",
       "      <td>Mar 01, 2000</td>\n",
       "      <td>1,379.20</td>\n",
       "      <td>1,366.40</td>\n",
       "      <td>1,383.00</td>\n",
       "      <td>1,366.40</td>\n",
       "      <td>-</td>\n",
       "      <td>0.94%</td>\n",
       "    </tr>\n",
       "  </tbody>\n",
       "</table>\n",
       "<p>2979 rows × 7 columns</p>\n",
       "</div>"
      ],
      "text/plain": [
       "              Date     Price      Open      High       Low Vol. Change %\n",
       "0     Dec 30, 2011  1,257.60  1,262.82  1,264.12  1,257.46    -   -0.43%\n",
       "1     Dec 29, 2011  1,263.02  1,249.75  1,263.54  1,249.75    -    1.07%\n",
       "2     Dec 28, 2011  1,249.64  1,265.38  1,265.85  1,248.64    -   -1.25%\n",
       "3     Dec 27, 2011  1,265.43  1,265.02  1,269.37  1,262.30    -    0.01%\n",
       "4     Dec 23, 2011  1,265.33  1,254.00  1,265.42  1,254.00    -    0.90%\n",
       "...            ...       ...       ...       ...       ...  ...      ...\n",
       "2974  Mar 07, 2000  1,355.60  1,391.30  1,399.60  1,349.60    -   -2.57%\n",
       "2975  Mar 06, 2000  1,391.30  1,409.20  1,409.80  1,384.80    -   -1.27%\n",
       "2976  Mar 03, 2000  1,409.20  1,381.80  1,410.90  1,381.80    -    1.98%\n",
       "2977  Mar 02, 2000  1,381.80  1,379.20  1,386.90  1,370.30    -    0.19%\n",
       "2978  Mar 01, 2000  1,379.20  1,366.40  1,383.00  1,366.40    -    0.94%\n",
       "\n",
       "[2979 rows x 7 columns]"
      ]
     },
     "execution_count": 30,
     "metadata": {},
     "output_type": "execute_result"
    }
   ],
   "source": [
    "df = pd.read_csv(r\"C:/Users/KIIT/Desktop/S_P 500 Historical Data.csv\")\n",
    "df"
   ]
  },
  {
   "cell_type": "code",
   "execution_count": 31,
   "metadata": {},
   "outputs": [
    {
     "data": {
      "text/html": [
       "<div>\n",
       "<style scoped>\n",
       "    .dataframe tbody tr th:only-of-type {\n",
       "        vertical-align: middle;\n",
       "    }\n",
       "\n",
       "    .dataframe tbody tr th {\n",
       "        vertical-align: top;\n",
       "    }\n",
       "\n",
       "    .dataframe thead th {\n",
       "        text-align: right;\n",
       "    }\n",
       "</style>\n",
       "<table border=\"1\" class=\"dataframe\">\n",
       "  <thead>\n",
       "    <tr style=\"text-align: right;\">\n",
       "      <th></th>\n",
       "      <th>Date</th>\n",
       "      <th>Price</th>\n",
       "      <th>Open</th>\n",
       "      <th>High</th>\n",
       "      <th>Low</th>\n",
       "      <th>Vol.</th>\n",
       "      <th>Change %</th>\n",
       "      <th>Year</th>\n",
       "    </tr>\n",
       "  </thead>\n",
       "  <tbody>\n",
       "    <tr>\n",
       "      <th>2978</th>\n",
       "      <td>Mar 01, 2000</td>\n",
       "      <td>1,379.20</td>\n",
       "      <td>1,366.40</td>\n",
       "      <td>1,383.00</td>\n",
       "      <td>1,366.40</td>\n",
       "      <td>-</td>\n",
       "      <td>0.94%</td>\n",
       "      <td>2000</td>\n",
       "    </tr>\n",
       "    <tr>\n",
       "      <th>2842</th>\n",
       "      <td>Sep 13, 2000</td>\n",
       "      <td>1,484.90</td>\n",
       "      <td>1,482.00</td>\n",
       "      <td>1,487.40</td>\n",
       "      <td>1,474.00</td>\n",
       "      <td>-</td>\n",
       "      <td>0.20%</td>\n",
       "      <td>2000</td>\n",
       "    </tr>\n",
       "    <tr>\n",
       "      <th>2841</th>\n",
       "      <td>Sep 14, 2000</td>\n",
       "      <td>1,480.90</td>\n",
       "      <td>1,484.90</td>\n",
       "      <td>1,494.30</td>\n",
       "      <td>1,476.80</td>\n",
       "      <td>-</td>\n",
       "      <td>-0.27%</td>\n",
       "      <td>2000</td>\n",
       "    </tr>\n",
       "    <tr>\n",
       "      <th>2840</th>\n",
       "      <td>Sep 15, 2000</td>\n",
       "      <td>1,465.80</td>\n",
       "      <td>1,480.90</td>\n",
       "      <td>1,481.00</td>\n",
       "      <td>1,460.20</td>\n",
       "      <td>-</td>\n",
       "      <td>-1.02%</td>\n",
       "      <td>2000</td>\n",
       "    </tr>\n",
       "    <tr>\n",
       "      <th>2839</th>\n",
       "      <td>Sep 18, 2000</td>\n",
       "      <td>1,444.50</td>\n",
       "      <td>1,465.80</td>\n",
       "      <td>1,467.90</td>\n",
       "      <td>1,441.80</td>\n",
       "      <td>-</td>\n",
       "      <td>-1.45%</td>\n",
       "      <td>2000</td>\n",
       "    </tr>\n",
       "    <tr>\n",
       "      <th>...</th>\n",
       "      <td>...</td>\n",
       "      <td>...</td>\n",
       "      <td>...</td>\n",
       "      <td>...</td>\n",
       "      <td>...</td>\n",
       "      <td>...</td>\n",
       "      <td>...</td>\n",
       "      <td>...</td>\n",
       "    </tr>\n",
       "    <tr>\n",
       "      <th>162</th>\n",
       "      <td>May 11, 2011</td>\n",
       "      <td>1,342.08</td>\n",
       "      <td>1,354.51</td>\n",
       "      <td>1,354.51</td>\n",
       "      <td>1,336.36</td>\n",
       "      <td>-</td>\n",
       "      <td>-1.11%</td>\n",
       "      <td>2011</td>\n",
       "    </tr>\n",
       "    <tr>\n",
       "      <th>161</th>\n",
       "      <td>May 12, 2011</td>\n",
       "      <td>1,348.65</td>\n",
       "      <td>1,339.39</td>\n",
       "      <td>1,351.05</td>\n",
       "      <td>1,332.03</td>\n",
       "      <td>-</td>\n",
       "      <td>0.49%</td>\n",
       "      <td>2011</td>\n",
       "    </tr>\n",
       "    <tr>\n",
       "      <th>160</th>\n",
       "      <td>May 13, 2011</td>\n",
       "      <td>1,337.77</td>\n",
       "      <td>1,348.69</td>\n",
       "      <td>1,350.47</td>\n",
       "      <td>1,333.36</td>\n",
       "      <td>-</td>\n",
       "      <td>-0.81%</td>\n",
       "      <td>2011</td>\n",
       "    </tr>\n",
       "    <tr>\n",
       "      <th>173</th>\n",
       "      <td>Apr 26, 2011</td>\n",
       "      <td>1,347.24</td>\n",
       "      <td>1,336.75</td>\n",
       "      <td>1,349.55</td>\n",
       "      <td>1,336.75</td>\n",
       "      <td>-</td>\n",
       "      <td>0.90%</td>\n",
       "      <td>2011</td>\n",
       "    </tr>\n",
       "    <tr>\n",
       "      <th>0</th>\n",
       "      <td>Dec 30, 2011</td>\n",
       "      <td>1,257.60</td>\n",
       "      <td>1,262.82</td>\n",
       "      <td>1,264.12</td>\n",
       "      <td>1,257.46</td>\n",
       "      <td>-</td>\n",
       "      <td>-0.43%</td>\n",
       "      <td>2011</td>\n",
       "    </tr>\n",
       "  </tbody>\n",
       "</table>\n",
       "<p>2979 rows × 8 columns</p>\n",
       "</div>"
      ],
      "text/plain": [
       "              Date     Price      Open      High       Low Vol. Change %  Year\n",
       "2978  Mar 01, 2000  1,379.20  1,366.40  1,383.00  1,366.40    -    0.94%  2000\n",
       "2842  Sep 13, 2000  1,484.90  1,482.00  1,487.40  1,474.00    -    0.20%  2000\n",
       "2841  Sep 14, 2000  1,480.90  1,484.90  1,494.30  1,476.80    -   -0.27%  2000\n",
       "2840  Sep 15, 2000  1,465.80  1,480.90  1,481.00  1,460.20    -   -1.02%  2000\n",
       "2839  Sep 18, 2000  1,444.50  1,465.80  1,467.90  1,441.80    -   -1.45%  2000\n",
       "...            ...       ...       ...       ...       ...  ...      ...   ...\n",
       "162   May 11, 2011  1,342.08  1,354.51  1,354.51  1,336.36    -   -1.11%  2011\n",
       "161   May 12, 2011  1,348.65  1,339.39  1,351.05  1,332.03    -    0.49%  2011\n",
       "160   May 13, 2011  1,337.77  1,348.69  1,350.47  1,333.36    -   -0.81%  2011\n",
       "173   Apr 26, 2011  1,347.24  1,336.75  1,349.55  1,336.75    -    0.90%  2011\n",
       "0     Dec 30, 2011  1,257.60  1,262.82  1,264.12  1,257.46    -   -0.43%  2011\n",
       "\n",
       "[2979 rows x 8 columns]"
      ]
     },
     "execution_count": 31,
     "metadata": {},
     "output_type": "execute_result"
    }
   ],
   "source": [
    "# Extracting Year from Date\n",
    "a = []\n",
    "for i in range(len(df)):\n",
    "    a.append(int(df['Date'][i][-4:]))\n",
    "    \n",
    "df['Year'] = a\n",
    "\n",
    "# Sort the Dataset in Time-Series\n",
    "df = df.sort_values(by='Year')\n",
    "df"
   ]
  },
  {
   "cell_type": "code",
   "execution_count": 32,
   "metadata": {},
   "outputs": [
    {
     "data": {
      "text/plain": [
       "Date        object\n",
       "Price       object\n",
       "Open        object\n",
       "High        object\n",
       "Low         object\n",
       "Vol.        object\n",
       "Change %    object\n",
       "Year         int64\n",
       "dtype: object"
      ]
     },
     "execution_count": 32,
     "metadata": {},
     "output_type": "execute_result"
    }
   ],
   "source": [
    "# Data-Type of Each column\n",
    "df.dtypes"
   ]
  },
  {
   "cell_type": "code",
   "execution_count": 33,
   "metadata": {},
   "outputs": [
    {
     "name": "stderr",
     "output_type": "stream",
     "text": [
      "<ipython-input-33-bb9107127f14>:2: SettingWithCopyWarning: \n",
      "A value is trying to be set on a copy of a slice from a DataFrame\n",
      "\n",
      "See the caveats in the documentation: https://pandas.pydata.org/pandas-docs/stable/user_guide/indexing.html#returning-a-view-versus-a-copy\n",
      "  df['Change %'][i] = float(df['Change %'][i].replace('%',''))\n"
     ]
    }
   ],
   "source": [
    "# Converting the Data-Type of necessary Column from object to Float\n",
    "for i in range(len(df)):\n",
    "    df['Change %'][i] = float(df['Change %'][i].replace('%',''))\n",
    "\n",
    "df = df.astype({'Change %' : float})"
   ]
  },
  {
   "cell_type": "code",
   "execution_count": 34,
   "metadata": {},
   "outputs": [
    {
     "name": "stderr",
     "output_type": "stream",
     "text": [
      "<ipython-input-34-70ed099f8772>:3: SettingWithCopyWarning: \n",
      "A value is trying to be set on a copy of a slice from a DataFrame\n",
      "\n",
      "See the caveats in the documentation: https://pandas.pydata.org/pandas-docs/stable/user_guide/indexing.html#returning-a-view-versus-a-copy\n",
      "  df[i][j] = float(df[i][j].replace(',',''))\n"
     ]
    }
   ],
   "source": [
    "for i in ['Price', 'Open', 'High', 'Low']:\n",
    "    for j in range(len(df)):\n",
    "        df[i][j] = float(df[i][j].replace(',',''))\n",
    "        \n",
    "a = {'Price':float, 'Open':float, 'High':float, 'Low':float}\n",
    "df = df.astype(a)"
   ]
  },
  {
   "cell_type": "code",
   "execution_count": 35,
   "metadata": {
    "scrolled": true
   },
   "outputs": [
    {
     "data": {
      "text/plain": [
       "Date         object\n",
       "Price       float64\n",
       "Open        float64\n",
       "High        float64\n",
       "Low         float64\n",
       "Vol.         object\n",
       "Change %    float64\n",
       "Year          int64\n",
       "dtype: object"
      ]
     },
     "execution_count": 35,
     "metadata": {},
     "output_type": "execute_result"
    }
   ],
   "source": [
    "# Converted Data-Types\n",
    "df.dtypes"
   ]
  },
  {
   "cell_type": "markdown",
   "metadata": {},
   "source": [
    "### Splitting Into Training Set and Test Set"
   ]
  },
  {
   "cell_type": "code",
   "execution_count": 40,
   "metadata": {},
   "outputs": [],
   "source": [
    "df_train = df[:2300]\n",
    "df_test = df[2300:]"
   ]
  },
  {
   "cell_type": "markdown",
   "metadata": {},
   "source": [
    "### Trading Signal of Low and High"
   ]
  },
  {
   "cell_type": "code",
   "execution_count": 36,
   "metadata": {},
   "outputs": [
    {
     "data": {
      "image/png": "[encoded data removed]",
      "text/plain": [
       "<Figure size 432x288 with 1 Axes>"
      ]
     },
     "metadata": {
      "needs_background": "light"
     },
     "output_type": "display_data"
    }
   ],
   "source": [
    "a = df['High'].rolling(30).mean()\n",
    "c = df['Low'].rolling(30).mean()\n",
    "plt.plot(df['Date'],c)\n",
    "plt.plot(df['Date'],a)\n",
    "plt.legend(['Low','High'])\n",
    "plt.show()"
   ]
  },
  {
   "cell_type": "code",
   "execution_count": 37,
   "metadata": {},
   "outputs": [
    {
     "data": {
      "image/png": "[encoded data removed]",
      "text/plain": [
       "<Figure size 432x288 with 1 Axes>"
      ]
     },
     "metadata": {
      "needs_background": "light"
     },
     "output_type": "display_data"
    }
   ],
   "source": [
    "a = df['High'].rolling(30).mean()\n",
    "c = df['Low'].rolling(30).mean()\n",
    "plt.plot(df['Year'],c)\n",
    "plt.plot(df['Year'],a)\n",
    "plt.legend(['Low','High'])\n",
    "plt.show()"
   ]
  },
  {
   "cell_type": "markdown",
   "metadata": {},
   "source": [
    "### Description of Training and Test Set (Standard Deviation, Mean etc..)"
   ]
  },
  {
   "cell_type": "code",
   "execution_count": 55,
   "metadata": {
    "scrolled": false
   },
   "outputs": [
    {
     "data": {
      "text/html": [
       "<div>\n",
       "<style scoped>\n",
       "    .dataframe tbody tr th:only-of-type {\n",
       "        vertical-align: middle;\n",
       "    }\n",
       "\n",
       "    .dataframe tbody tr th {\n",
       "        vertical-align: top;\n",
       "    }\n",
       "\n",
       "    .dataframe thead th {\n",
       "        text-align: right;\n",
       "    }\n",
       "</style>\n",
       "<table border=\"1\" class=\"dataframe\">\n",
       "  <thead>\n",
       "    <tr style=\"text-align: right;\">\n",
       "      <th></th>\n",
       "      <th>High</th>\n",
       "      <th>Low</th>\n",
       "    </tr>\n",
       "  </thead>\n",
       "  <tbody>\n",
       "    <tr>\n",
       "      <th>count</th>\n",
       "      <td>2300.000000</td>\n",
       "      <td>2300.000000</td>\n",
       "    </tr>\n",
       "    <tr>\n",
       "      <th>mean</th>\n",
       "      <td>1212.689270</td>\n",
       "      <td>1195.151591</td>\n",
       "    </tr>\n",
       "    <tr>\n",
       "      <th>std</th>\n",
       "      <td>186.854437</td>\n",
       "      <td>187.355886</td>\n",
       "    </tr>\n",
       "    <tr>\n",
       "      <th>min</th>\n",
       "      <td>798.500000</td>\n",
       "      <td>741.020000</td>\n",
       "    </tr>\n",
       "    <tr>\n",
       "      <th>25%</th>\n",
       "      <td>1095.065000</td>\n",
       "      <td>1078.700000</td>\n",
       "    </tr>\n",
       "    <tr>\n",
       "      <th>50%</th>\n",
       "      <td>1210.270000</td>\n",
       "      <td>1197.300000</td>\n",
       "    </tr>\n",
       "    <tr>\n",
       "      <th>75%</th>\n",
       "      <td>1365.492500</td>\n",
       "      <td>1341.702500</td>\n",
       "    </tr>\n",
       "    <tr>\n",
       "      <th>max</th>\n",
       "      <td>1576.090000</td>\n",
       "      <td>1555.460000</td>\n",
       "    </tr>\n",
       "  </tbody>\n",
       "</table>\n",
       "</div>"
      ],
      "text/plain": [
       "              High          Low\n",
       "count  2300.000000  2300.000000\n",
       "mean   1212.689270  1195.151591\n",
       "std     186.854437   187.355886\n",
       "min     798.500000   741.020000\n",
       "25%    1095.065000  1078.700000\n",
       "50%    1210.270000  1197.300000\n",
       "75%    1365.492500  1341.702500\n",
       "max    1576.090000  1555.460000"
      ]
     },
     "execution_count": 55,
     "metadata": {},
     "output_type": "execute_result"
    }
   ],
   "source": [
    "df_train.drop(columns=['Price','Open','Change %','Year']).describe()"
   ]
  },
  {
   "cell_type": "code",
   "execution_count": 56,
   "metadata": {},
   "outputs": [
    {
     "data": {
      "text/html": [
       "<div>\n",
       "<style scoped>\n",
       "    .dataframe tbody tr th:only-of-type {\n",
       "        vertical-align: middle;\n",
       "    }\n",
       "\n",
       "    .dataframe tbody tr th {\n",
       "        vertical-align: top;\n",
       "    }\n",
       "\n",
       "    .dataframe thead th {\n",
       "        text-align: right;\n",
       "    }\n",
       "</style>\n",
       "<table border=\"1\" class=\"dataframe\">\n",
       "  <thead>\n",
       "    <tr style=\"text-align: right;\">\n",
       "      <th></th>\n",
       "      <th>High</th>\n",
       "      <th>Low</th>\n",
       "    </tr>\n",
       "  </thead>\n",
       "  <tbody>\n",
       "    <tr>\n",
       "      <th>count</th>\n",
       "      <td>679.000000</td>\n",
       "      <td>679.000000</td>\n",
       "    </tr>\n",
       "    <tr>\n",
       "      <th>mean</th>\n",
       "      <td>1137.649293</td>\n",
       "      <td>1119.447850</td>\n",
       "    </tr>\n",
       "    <tr>\n",
       "      <th>std</th>\n",
       "      <td>157.678338</td>\n",
       "      <td>160.261376</td>\n",
       "    </tr>\n",
       "    <tr>\n",
       "      <th>min</th>\n",
       "      <td>695.270000</td>\n",
       "      <td>666.790000</td>\n",
       "    </tr>\n",
       "    <tr>\n",
       "      <th>25%</th>\n",
       "      <td>1080.410000</td>\n",
       "      <td>1062.875000</td>\n",
       "    </tr>\n",
       "    <tr>\n",
       "      <th>50%</th>\n",
       "      <td>1164.550000</td>\n",
       "      <td>1140.130000</td>\n",
       "    </tr>\n",
       "    <tr>\n",
       "      <th>75%</th>\n",
       "      <td>1260.525000</td>\n",
       "      <td>1243.535000</td>\n",
       "    </tr>\n",
       "    <tr>\n",
       "      <th>max</th>\n",
       "      <td>1370.580000</td>\n",
       "      <td>1358.690000</td>\n",
       "    </tr>\n",
       "  </tbody>\n",
       "</table>\n",
       "</div>"
      ],
      "text/plain": [
       "              High          Low\n",
       "count   679.000000   679.000000\n",
       "mean   1137.649293  1119.447850\n",
       "std     157.678338   160.261376\n",
       "min     695.270000   666.790000\n",
       "25%    1080.410000  1062.875000\n",
       "50%    1164.550000  1140.130000\n",
       "75%    1260.525000  1243.535000\n",
       "max    1370.580000  1358.690000"
      ]
     },
     "execution_count": 56,
     "metadata": {},
     "output_type": "execute_result"
    }
   ],
   "source": [
    "df_test.drop(columns=['Price','Open','Change %','Year']).describe()"
   ]
  },
  {
   "cell_type": "markdown",
   "metadata": {},
   "source": [
    "### Strategy "
   ]
  },
  {
   "cell_type": "raw",
   "metadata": {},
   "source": [
    "Traders who are using a basing period to find an entry point in a trending market should place a trade when \n",
    "price breaks above the high of the consolidated range (for a long position). The breakout should occur on \n",
    "above-average volume to show participation in the move. Ideally, a commonly used moving average, such as the \n",
    "20-day or 50-day, acts as support at the bottom of the basing period; this allows the moving average to catch \n",
    "up to price. The moving average acts as resistance for a short position."
   ]
  },
  {
   "cell_type": "raw",
   "metadata": {},
   "source": [
    "The narrow range of a basing formation allows for a healthy risk/reward ratio. Traders can place a stop-loss \n",
    "order below the lowest traded price in the basing period. Since the expectation is for the market to start \n",
    "trending again, profit targets that are many multiples of the stop amount can be set to capture the bulk of \n",
    "the move."
   ]
  },
  {
   "cell_type": "markdown",
   "metadata": {},
   "source": [
    "### Cumulative return is the total change in the price of an investment over a set time period. It is an aggregate figure, not an annualized rate."
   ]
  },
  {
   "cell_type": "markdown",
   "metadata": {},
   "source": [
    "#### Train and Test Datset"
   ]
  },
  {
   "cell_type": "code",
   "execution_count": 49,
   "metadata": {},
   "outputs": [
    {
     "data": {
      "image/png": "[encoded data removed]",
      "text/plain": [
       "<Figure size 1080x504 with 2 Axes>"
      ]
     },
     "metadata": {
      "needs_background": "light"
     },
     "output_type": "display_data"
    }
   ],
   "source": [
    "plt.figure(figsize=(15,7))\n",
    "plt.subplot(1,2,1)\n",
    "plt.plot(df_train['Date'],df_train['Change %'].rolling(50).mean())\n",
    "plt.subplot(1,2,2)\n",
    "plt.plot(df_train['Year'],df_train['Change %'].rolling(50).mean())\n",
    "plt.show()"
   ]
  },
  {
   "cell_type": "code",
   "execution_count": 50,
   "metadata": {},
   "outputs": [
    {
     "data": {
      "image/png": "[encoded data removed]",
      "text/plain": [
       "<Figure size 1080x504 with 2 Axes>"
      ]
     },
     "metadata": {
      "needs_background": "light"
     },
     "output_type": "display_data"
    }
   ],
   "source": [
    "plt.figure(figsize=(15,7))\n",
    "plt.subplot(1,2,1)\n",
    "plt.plot(df_test['Date'],df_test['Change %'].rolling(50).mean())\n",
    "plt.subplot(1,2,2)\n",
    "plt.plot(df_test['Year'],df_test['Change %'].rolling(50).mean())\n",
    "plt.show()"
   ]
  },
  {
   "cell_type": "code",
   "execution_count": 52,
   "metadata": {},
   "outputs": [
    {
     "name": "stdout",
     "output_type": "stream",
     "text": [
      "Average Cummalative Change(Training Set) :  -0.0027347826086956684\n",
      "Average Cummalative Change(Test Set) :  0.038645066273932174\n"
     ]
    }
   ],
   "source": [
    "print(\"Average Cummalative Change(Training Set) : \",df_train['Change %'].mean())\n",
    "print(\"Average Cummalative Change(Test Set) : \",df_test['Change %'].mean())"
   ]
  },
  {
   "cell_type": "markdown",
   "metadata": {},
   "source": [
    "### Total Trades"
   ]
  },
  {
   "cell_type": "code",
   "execution_count": 53,
   "metadata": {},
   "outputs": [
    {
     "name": "stdout",
     "output_type": "stream",
     "text": [
      "Total number of Trades :  2979\n"
     ]
    }
   ],
   "source": [
    "print(\"Total number of Trades : \",len(df))"
   ]
  },
  {
   "cell_type": "code",
   "execution_count": null,
   "metadata": {},
   "outputs": [],
   "source": []
  }
 ],
 "metadata": {
  "kernelspec": {
   "display_name": "Python 3",
   "language": "python",
   "name": "python3"
  },
  "language_info": {
   "codemirror_mode": {
    "name": "ipython",
    "version": 3
   },
   "file_extension": ".py",
   "mimetype": "text/x-python",
   "name": "python",
   "nbconvert_exporter": "python",
   "pygments_lexer": "ipython3",
   "version": "3.8.3"
  }
 },
 "nbformat": 4,
 "nbformat_minor": 4
}
